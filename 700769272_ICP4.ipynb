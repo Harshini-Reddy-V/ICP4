{
  "nbformat": 4,
  "nbformat_minor": 0,
  "metadata": {
    "colab": {
      "provenance": []
    },
    "kernelspec": {
      "name": "python3",
      "display_name": "Python 3"
    },
    "language_info": {
      "name": "python"
    }
  },
  "cells": [
    {
      "cell_type": "code",
      "execution_count": 1,
      "metadata": {
        "id": "7u18hRFVJn-E"
      },
      "outputs": [],
      "source": [
        "import numpy as np\n",
        "import pandas as pd\n",
        "\n",
        "data = {\n",
        "    'ID': np.arange(1, 1000001),  # 1 million IDs\n",
        "    'Value': np.random.rand(1000000),  # 1 million random values\n",
        "    'Category': np.random.choice(['A', 'B', 'C', 'D'], size=1000000)  # Random categories\n",
        "}\n",
        "\n"
      ]
    },
    {
      "cell_type": "code",
      "source": [
        "df = pd.DataFrame(data)\n",
        "print(df.head(10))"
      ],
      "metadata": {
        "colab": {
          "base_uri": "https://localhost:8080/"
        },
        "id": "9V_h_YYcKZc7",
        "outputId": "15d9a2ac-7a37-40cf-9bab-bc00885ea1ae"
      },
      "execution_count": 2,
      "outputs": [
        {
          "output_type": "stream",
          "name": "stdout",
          "text": [
            "   ID     Value Category\n",
            "0   1  0.346427        C\n",
            "1   2  0.569241        B\n",
            "2   3  0.230813        A\n",
            "3   4  0.721483        D\n",
            "4   5  0.459664        D\n",
            "5   6  0.683019        A\n",
            "6   7  0.900568        A\n",
            "7   8  0.105538        D\n",
            "8   9  0.267638        A\n",
            "9  10  0.998708        A\n"
          ]
        }
      ]
    },
    {
      "cell_type": "code",
      "source": [
        "df.Value"
      ],
      "metadata": {
        "colab": {
          "base_uri": "https://localhost:8080/",
          "height": 458
        },
        "id": "649gKYx5KjYz",
        "outputId": "0495c870-7542-4179-cf0c-032fac3cf49c"
      },
      "execution_count": 5,
      "outputs": [
        {
          "output_type": "execute_result",
          "data": {
            "text/plain": [
              "0         0.346427\n",
              "1         0.569241\n",
              "2         0.230813\n",
              "3         0.721483\n",
              "4         0.459664\n",
              "            ...   \n",
              "999995    0.991033\n",
              "999996    0.573841\n",
              "999997    0.592866\n",
              "999998    0.417885\n",
              "999999    0.815470\n",
              "Name: Value, Length: 1000000, dtype: float64"
            ],
            "text/html": [
              "<div>\n",
              "<style scoped>\n",
              "    .dataframe tbody tr th:only-of-type {\n",
              "        vertical-align: middle;\n",
              "    }\n",
              "\n",
              "    .dataframe tbody tr th {\n",
              "        vertical-align: top;\n",
              "    }\n",
              "\n",
              "    .dataframe thead th {\n",
              "        text-align: right;\n",
              "    }\n",
              "</style>\n",
              "<table border=\"1\" class=\"dataframe\">\n",
              "  <thead>\n",
              "    <tr style=\"text-align: right;\">\n",
              "      <th></th>\n",
              "      <th>Value</th>\n",
              "    </tr>\n",
              "  </thead>\n",
              "  <tbody>\n",
              "    <tr>\n",
              "      <th>0</th>\n",
              "      <td>0.346427</td>\n",
              "    </tr>\n",
              "    <tr>\n",
              "      <th>1</th>\n",
              "      <td>0.569241</td>\n",
              "    </tr>\n",
              "    <tr>\n",
              "      <th>2</th>\n",
              "      <td>0.230813</td>\n",
              "    </tr>\n",
              "    <tr>\n",
              "      <th>3</th>\n",
              "      <td>0.721483</td>\n",
              "    </tr>\n",
              "    <tr>\n",
              "      <th>4</th>\n",
              "      <td>0.459664</td>\n",
              "    </tr>\n",
              "    <tr>\n",
              "      <th>...</th>\n",
              "      <td>...</td>\n",
              "    </tr>\n",
              "    <tr>\n",
              "      <th>999995</th>\n",
              "      <td>0.991033</td>\n",
              "    </tr>\n",
              "    <tr>\n",
              "      <th>999996</th>\n",
              "      <td>0.573841</td>\n",
              "    </tr>\n",
              "    <tr>\n",
              "      <th>999997</th>\n",
              "      <td>0.592866</td>\n",
              "    </tr>\n",
              "    <tr>\n",
              "      <th>999998</th>\n",
              "      <td>0.417885</td>\n",
              "    </tr>\n",
              "    <tr>\n",
              "      <th>999999</th>\n",
              "      <td>0.815470</td>\n",
              "    </tr>\n",
              "  </tbody>\n",
              "</table>\n",
              "<p>1000000 rows × 1 columns</p>\n",
              "</div><br><label><b>dtype:</b> float64</label>"
            ]
          },
          "metadata": {},
          "execution_count": 5
        }
      ]
    },
    {
      "cell_type": "code",
      "source": [
        "df.rename(columns={\n",
        "    'ID': 'ID number',\n",
        "    'Value': 'Random value',\n",
        "    'Category': 'Choice'\n",
        "}, inplace=True)\n",
        "\n",
        "print(df.head(5))\n"
      ],
      "metadata": {
        "colab": {
          "base_uri": "https://localhost:8080/"
        },
        "id": "91NYA3aDLHSv",
        "outputId": "a1b6ef9a-f267-4e81-bbf7-54bb021f6f0f"
      },
      "execution_count": 6,
      "outputs": [
        {
          "output_type": "stream",
          "name": "stdout",
          "text": [
            "   ID number  Random value Choice\n",
            "0          1      0.346427      C\n",
            "1          2      0.569241      B\n",
            "2          3      0.230813      A\n",
            "3          4      0.721483      D\n",
            "4          5      0.459664      D\n"
          ]
        }
      ]
    },
    {
      "cell_type": "code",
      "source": [
        "import pandas as pd\n",
        "\n",
        "pd.set_option('display.max_rows', None)\n",
        "pd.set_option('display.max_columns', None)\n",
        "\n",
        "student_data = pd.DataFrame({\n",
        "    'school_code': ['s001', 's002', 's003', 's001', 's002', 's004'],\n",
        "    'class': ['V', 'V', 'VI', 'VI', 'V', 'VI'],\n",
        "    'name': ['Alberto Franco', 'Gino Mcneill', 'Ryan Parkes',\n",
        "             'Eesha Hinton', 'Gino Mcneill', 'David Parkes'],\n",
        "    'date_Of_Birth': ['15/05/2002', '17/05/2002', '16/02/1999',\n",
        "                      '25/09/1998', '11/05/2002', '15/09/1997'],\n",
        "    'age': [12, 13, 14, 12, 13, 14],\n",
        "    'height': [173, 192, 186, 167, 151, 159],\n",
        "    'weight': [35, 32, 33, 30, 31, 32],\n",
        "    'address': ['street1', 'street2', 'street3', 'street1', 'street2', 'street4']\n",
        "}, index=['S1', 'S2', 'S3', 'S4', 'S5', 'S6'])\n",
        "\n",
        "print(\"Original DataFrame:\")\n",
        "print(student_data)\n",
        "\n",
        "print('\\nSplit the said data on school_code, class wise:')\n",
        "result = student_data.groupby(['school_code', 'class'])\n",
        "\n",
        "for name, group in result:\n",
        "    print(\"\\nGroup:\", name)\n",
        "    print(group)\n"
      ],
      "metadata": {
        "colab": {
          "base_uri": "https://localhost:8080/"
        },
        "id": "DbURcrX1L0ZK",
        "outputId": "13afe45d-1ead-46d9-a4b1-bcafcd174942"
      },
      "execution_count": 8,
      "outputs": [
        {
          "output_type": "stream",
          "name": "stdout",
          "text": [
            "Original DataFrame:\n",
            "   school_code class            name date_Of_Birth  age  height  weight  \\\n",
            "S1        s001     V  Alberto Franco    15/05/2002   12     173      35   \n",
            "S2        s002     V    Gino Mcneill    17/05/2002   13     192      32   \n",
            "S3        s003    VI     Ryan Parkes    16/02/1999   14     186      33   \n",
            "S4        s001    VI    Eesha Hinton    25/09/1998   12     167      30   \n",
            "S5        s002     V    Gino Mcneill    11/05/2002   13     151      31   \n",
            "S6        s004    VI    David Parkes    15/09/1997   14     159      32   \n",
            "\n",
            "    address  \n",
            "S1  street1  \n",
            "S2  street2  \n",
            "S3  street3  \n",
            "S4  street1  \n",
            "S5  street2  \n",
            "S6  street4  \n",
            "\n",
            "Split the said data on school_code, class wise:\n",
            "\n",
            "Group: ('s001', 'V')\n",
            "   school_code class            name date_Of_Birth  age  height  weight  \\\n",
            "S1        s001     V  Alberto Franco    15/05/2002   12     173      35   \n",
            "\n",
            "    address  \n",
            "S1  street1  \n",
            "\n",
            "Group: ('s001', 'VI')\n",
            "   school_code class          name date_Of_Birth  age  height  weight  address\n",
            "S4        s001    VI  Eesha Hinton    25/09/1998   12     167      30  street1\n",
            "\n",
            "Group: ('s002', 'V')\n",
            "   school_code class          name date_Of_Birth  age  height  weight  address\n",
            "S2        s002     V  Gino Mcneill    17/05/2002   13     192      32  street2\n",
            "S5        s002     V  Gino Mcneill    11/05/2002   13     151      31  street2\n",
            "\n",
            "Group: ('s003', 'VI')\n",
            "   school_code class         name date_Of_Birth  age  height  weight  address\n",
            "S3        s003    VI  Ryan Parkes    16/02/1999   14     186      33  street3\n",
            "\n",
            "Group: ('s004', 'VI')\n",
            "   school_code class          name date_Of_Birth  age  height  weight  address\n",
            "S6        s004    VI  David Parkes    15/09/1997   14     159      32  street4\n"
          ]
        }
      ]
    },
    {
      "cell_type": "code",
      "source": [
        "from google.colab import files\n",
        "uploaded = files.upload()"
      ],
      "metadata": {
        "colab": {
          "base_uri": "https://localhost:8080/",
          "height": 73
        },
        "id": "54pJIkGrPS5_",
        "outputId": "e8b3d90d-f294-4131-abc7-60b58b624cd4"
      },
      "execution_count": 20,
      "outputs": [
        {
          "output_type": "display_data",
          "data": {
            "text/plain": [
              "<IPython.core.display.HTML object>"
            ],
            "text/html": [
              "\n",
              "     <input type=\"file\" id=\"files-d6becb4e-5538-45f3-a111-e2c576a717b7\" name=\"files[]\" multiple disabled\n",
              "        style=\"border:none\" />\n",
              "     <output id=\"result-d6becb4e-5538-45f3-a111-e2c576a717b7\">\n",
              "      Upload widget is only available when the cell has been executed in the\n",
              "      current browser session. Please rerun this cell to enable.\n",
              "      </output>\n",
              "      <script>// Copyright 2017 Google LLC\n",
              "//\n",
              "// Licensed under the Apache License, Version 2.0 (the \"License\");\n",
              "// you may not use this file except in compliance with the License.\n",
              "// You may obtain a copy of the License at\n",
              "//\n",
              "//      http://www.apache.org/licenses/LICENSE-2.0\n",
              "//\n",
              "// Unless required by applicable law or agreed to in writing, software\n",
              "// distributed under the License is distributed on an \"AS IS\" BASIS,\n",
              "// WITHOUT WARRANTIES OR CONDITIONS OF ANY KIND, either express or implied.\n",
              "// See the License for the specific language governing permissions and\n",
              "// limitations under the License.\n",
              "\n",
              "/**\n",
              " * @fileoverview Helpers for google.colab Python module.\n",
              " */\n",
              "(function(scope) {\n",
              "function span(text, styleAttributes = {}) {\n",
              "  const element = document.createElement('span');\n",
              "  element.textContent = text;\n",
              "  for (const key of Object.keys(styleAttributes)) {\n",
              "    element.style[key] = styleAttributes[key];\n",
              "  }\n",
              "  return element;\n",
              "}\n",
              "\n",
              "// Max number of bytes which will be uploaded at a time.\n",
              "const MAX_PAYLOAD_SIZE = 100 * 1024;\n",
              "\n",
              "function _uploadFiles(inputId, outputId) {\n",
              "  const steps = uploadFilesStep(inputId, outputId);\n",
              "  const outputElement = document.getElementById(outputId);\n",
              "  // Cache steps on the outputElement to make it available for the next call\n",
              "  // to uploadFilesContinue from Python.\n",
              "  outputElement.steps = steps;\n",
              "\n",
              "  return _uploadFilesContinue(outputId);\n",
              "}\n",
              "\n",
              "// This is roughly an async generator (not supported in the browser yet),\n",
              "// where there are multiple asynchronous steps and the Python side is going\n",
              "// to poll for completion of each step.\n",
              "// This uses a Promise to block the python side on completion of each step,\n",
              "// then passes the result of the previous step as the input to the next step.\n",
              "function _uploadFilesContinue(outputId) {\n",
              "  const outputElement = document.getElementById(outputId);\n",
              "  const steps = outputElement.steps;\n",
              "\n",
              "  const next = steps.next(outputElement.lastPromiseValue);\n",
              "  return Promise.resolve(next.value.promise).then((value) => {\n",
              "    // Cache the last promise value to make it available to the next\n",
              "    // step of the generator.\n",
              "    outputElement.lastPromiseValue = value;\n",
              "    return next.value.response;\n",
              "  });\n",
              "}\n",
              "\n",
              "/**\n",
              " * Generator function which is called between each async step of the upload\n",
              " * process.\n",
              " * @param {string} inputId Element ID of the input file picker element.\n",
              " * @param {string} outputId Element ID of the output display.\n",
              " * @return {!Iterable<!Object>} Iterable of next steps.\n",
              " */\n",
              "function* uploadFilesStep(inputId, outputId) {\n",
              "  const inputElement = document.getElementById(inputId);\n",
              "  inputElement.disabled = false;\n",
              "\n",
              "  const outputElement = document.getElementById(outputId);\n",
              "  outputElement.innerHTML = '';\n",
              "\n",
              "  const pickedPromise = new Promise((resolve) => {\n",
              "    inputElement.addEventListener('change', (e) => {\n",
              "      resolve(e.target.files);\n",
              "    });\n",
              "  });\n",
              "\n",
              "  const cancel = document.createElement('button');\n",
              "  inputElement.parentElement.appendChild(cancel);\n",
              "  cancel.textContent = 'Cancel upload';\n",
              "  const cancelPromise = new Promise((resolve) => {\n",
              "    cancel.onclick = () => {\n",
              "      resolve(null);\n",
              "    };\n",
              "  });\n",
              "\n",
              "  // Wait for the user to pick the files.\n",
              "  const files = yield {\n",
              "    promise: Promise.race([pickedPromise, cancelPromise]),\n",
              "    response: {\n",
              "      action: 'starting',\n",
              "    }\n",
              "  };\n",
              "\n",
              "  cancel.remove();\n",
              "\n",
              "  // Disable the input element since further picks are not allowed.\n",
              "  inputElement.disabled = true;\n",
              "\n",
              "  if (!files) {\n",
              "    return {\n",
              "      response: {\n",
              "        action: 'complete',\n",
              "      }\n",
              "    };\n",
              "  }\n",
              "\n",
              "  for (const file of files) {\n",
              "    const li = document.createElement('li');\n",
              "    li.append(span(file.name, {fontWeight: 'bold'}));\n",
              "    li.append(span(\n",
              "        `(${file.type || 'n/a'}) - ${file.size} bytes, ` +\n",
              "        `last modified: ${\n",
              "            file.lastModifiedDate ? file.lastModifiedDate.toLocaleDateString() :\n",
              "                                    'n/a'} - `));\n",
              "    const percent = span('0% done');\n",
              "    li.appendChild(percent);\n",
              "\n",
              "    outputElement.appendChild(li);\n",
              "\n",
              "    const fileDataPromise = new Promise((resolve) => {\n",
              "      const reader = new FileReader();\n",
              "      reader.onload = (e) => {\n",
              "        resolve(e.target.result);\n",
              "      };\n",
              "      reader.readAsArrayBuffer(file);\n",
              "    });\n",
              "    // Wait for the data to be ready.\n",
              "    let fileData = yield {\n",
              "      promise: fileDataPromise,\n",
              "      response: {\n",
              "        action: 'continue',\n",
              "      }\n",
              "    };\n",
              "\n",
              "    // Use a chunked sending to avoid message size limits. See b/62115660.\n",
              "    let position = 0;\n",
              "    do {\n",
              "      const length = Math.min(fileData.byteLength - position, MAX_PAYLOAD_SIZE);\n",
              "      const chunk = new Uint8Array(fileData, position, length);\n",
              "      position += length;\n",
              "\n",
              "      const base64 = btoa(String.fromCharCode.apply(null, chunk));\n",
              "      yield {\n",
              "        response: {\n",
              "          action: 'append',\n",
              "          file: file.name,\n",
              "          data: base64,\n",
              "        },\n",
              "      };\n",
              "\n",
              "      let percentDone = fileData.byteLength === 0 ?\n",
              "          100 :\n",
              "          Math.round((position / fileData.byteLength) * 100);\n",
              "      percent.textContent = `${percentDone}% done`;\n",
              "\n",
              "    } while (position < fileData.byteLength);\n",
              "  }\n",
              "\n",
              "  // All done.\n",
              "  yield {\n",
              "    response: {\n",
              "      action: 'complete',\n",
              "    }\n",
              "  };\n",
              "}\n",
              "\n",
              "scope.google = scope.google || {};\n",
              "scope.google.colab = scope.google.colab || {};\n",
              "scope.google.colab._files = {\n",
              "  _uploadFiles,\n",
              "  _uploadFilesContinue,\n",
              "};\n",
              "})(self);\n",
              "</script> "
            ]
          },
          "metadata": {}
        },
        {
          "output_type": "stream",
          "name": "stdout",
          "text": [
            "Saving data.csv to data (4).csv\n"
          ]
        }
      ]
    },
    {
      "cell_type": "code",
      "source": [
        "print(df.describe())\n"
      ],
      "metadata": {
        "colab": {
          "base_uri": "https://localhost:8080/"
        },
        "id": "I9g_ghK-PiSU",
        "outputId": "b6c25503-ea32-4db3-ec63-60fc9d5454d5"
      },
      "execution_count": 21,
      "outputs": [
        {
          "output_type": "stream",
          "name": "stdout",
          "text": [
            "         Duration       Pulse    Maxpulse     Calories\n",
            "count  169.000000  169.000000  169.000000   164.000000\n",
            "mean    63.846154  107.461538  134.047337   375.790244\n",
            "std     42.299949   14.510259   16.450434   266.379919\n",
            "min     15.000000   80.000000  100.000000    50.300000\n",
            "25%     45.000000  100.000000  124.000000   250.925000\n",
            "50%     60.000000  105.000000  131.000000   318.600000\n",
            "75%     60.000000  111.000000  141.000000   387.600000\n",
            "max    300.000000  159.000000  184.000000  1860.400000\n"
          ]
        }
      ]
    },
    {
      "cell_type": "code",
      "source": [
        "print(df.isnull().sum())\n"
      ],
      "metadata": {
        "colab": {
          "base_uri": "https://localhost:8080/"
        },
        "id": "4ErEeSeWPqap",
        "outputId": "3afe66e1-5e2e-4e02-aa62-3550dce03e34"
      },
      "execution_count": 22,
      "outputs": [
        {
          "output_type": "stream",
          "name": "stdout",
          "text": [
            "Duration    0\n",
            "Pulse       0\n",
            "Maxpulse    0\n",
            "Calories    5\n",
            "dtype: int64\n"
          ]
        }
      ]
    },
    {
      "cell_type": "code",
      "source": [
        "df.fillna(df.mean(numeric_only=True), inplace=True)\n"
      ],
      "metadata": {
        "id": "oeKf0XrOP8_5"
      },
      "execution_count": 23,
      "outputs": []
    },
    {
      "cell_type": "code",
      "source": [
        "aggregated = df[['Pulse', 'Maxpulse']].agg(['min', 'max', 'count', 'mean'])\n",
        "print(aggregated)\n"
      ],
      "metadata": {
        "colab": {
          "base_uri": "https://localhost:8080/"
        },
        "id": "Q7tW7VSRQJHf",
        "outputId": "cb5930d6-a8e8-4468-e2a7-20cc43eb9691"
      },
      "execution_count": 26,
      "outputs": [
        {
          "output_type": "stream",
          "name": "stdout",
          "text": [
            "            Pulse    Maxpulse\n",
            "min     80.000000  100.000000\n",
            "max    159.000000  184.000000\n",
            "count  169.000000  169.000000\n",
            "mean   107.461538  134.047337\n"
          ]
        }
      ]
    },
    {
      "cell_type": "code",
      "source": [
        "filtered_df = df[(df['Calories'] >= 500) & (df['Calories'] <= 1000)]\n",
        "print(filtered_df)\n"
      ],
      "metadata": {
        "colab": {
          "base_uri": "https://localhost:8080/"
        },
        "id": "NR7ipcx_Qjgs",
        "outputId": "b895982a-3283-4b05-b49f-51421756d100"
      },
      "execution_count": 28,
      "outputs": [
        {
          "output_type": "stream",
          "name": "stdout",
          "text": [
            "     Duration  Pulse  Maxpulse  Calories\n",
            "51         80    123       146     643.1\n",
            "62        160    109       135     853.0\n",
            "65        180     90       130     800.4\n",
            "66        150    105       135     873.4\n",
            "67        150    107       130     816.0\n",
            "72         90    100       127     700.0\n",
            "73        150     97       127     953.2\n",
            "75         90     98       125     563.2\n",
            "78        120    100       130     500.4\n",
            "83        120    100       130     500.0\n",
            "90        180    101       127     600.1\n",
            "99         90     93       124     604.1\n",
            "101        90     90       110     500.0\n",
            "102        90     90       100     500.0\n",
            "103        90     90       100     500.4\n",
            "106       180     90       120     800.3\n",
            "108        90     90       120     500.3\n"
          ]
        }
      ]
    },
    {
      "cell_type": "code",
      "source": [
        "filtered_df = df[(df['Calories'] > 500) & (df['Pulse'] < 100)]\n",
        "print(filtered_df)\n"
      ],
      "metadata": {
        "colab": {
          "base_uri": "https://localhost:8080/"
        },
        "id": "9b0WeyRTQwlk",
        "outputId": "cbd7d63b-48c1-42dc-a4b7-5856ff8a8b09"
      },
      "execution_count": 29,
      "outputs": [
        {
          "output_type": "stream",
          "name": "stdout",
          "text": [
            "     Duration  Pulse  Maxpulse  Calories\n",
            "65        180     90       130     800.4\n",
            "70        150     97       129    1115.0\n",
            "73        150     97       127     953.2\n",
            "75         90     98       125     563.2\n",
            "99         90     93       124     604.1\n",
            "103        90     90       100     500.4\n",
            "106       180     90       120     800.3\n",
            "108        90     90       120     500.3\n"
          ]
        }
      ]
    },
    {
      "cell_type": "code",
      "source": [
        "df_modified = df.drop('Maxpulse', axis=1)\n",
        "print(df_modified)\n"
      ],
      "metadata": {
        "colab": {
          "base_uri": "https://localhost:8080/"
        },
        "id": "PvYUgByMRBet",
        "outputId": "6cb8c0b4-bdbe-4e71-d0be-c18a2c7b8e9c"
      },
      "execution_count": 31,
      "outputs": [
        {
          "output_type": "stream",
          "name": "stdout",
          "text": [
            "     Duration  Pulse     Calories\n",
            "0          60    110   409.100000\n",
            "1          60    117   479.000000\n",
            "2          60    103   340.000000\n",
            "3          45    109   282.400000\n",
            "4          45    117   406.000000\n",
            "5          60    102   300.000000\n",
            "6          60    110   374.000000\n",
            "7          45    104   253.300000\n",
            "8          30    109   195.100000\n",
            "9          60     98   269.000000\n",
            "10         60    103   329.300000\n",
            "11         60    100   250.700000\n",
            "12         60    106   345.300000\n",
            "13         60    104   379.300000\n",
            "14         60     98   275.000000\n",
            "15         60     98   215.200000\n",
            "16         60    100   300.000000\n",
            "17         45     90   375.790244\n",
            "18         60    103   323.000000\n",
            "19         45     97   243.000000\n",
            "20         60    108   364.200000\n",
            "21         45    100   282.000000\n",
            "22         60    130   300.000000\n",
            "23         45    105   246.000000\n",
            "24         60    102   334.500000\n",
            "25         60    100   250.000000\n",
            "26         60     92   241.000000\n",
            "27         60    103   375.790244\n",
            "28         60    100   280.000000\n",
            "29         60    102   380.300000\n",
            "30         60     92   243.000000\n",
            "31         45     90   180.100000\n",
            "32         60    101   299.000000\n",
            "33         60     93   223.000000\n",
            "34         60    107   361.000000\n",
            "35         60    114   415.000000\n",
            "36         60    102   300.000000\n",
            "37         60    100   300.000000\n",
            "38         60    100   300.000000\n",
            "39         45    104   266.000000\n",
            "40         45     90   180.100000\n",
            "41         60     98   286.000000\n",
            "42         60    100   329.400000\n",
            "43         60    111   400.000000\n",
            "44         60    111   397.000000\n",
            "45         60     99   273.000000\n",
            "46         60    109   387.600000\n",
            "47         45    111   300.000000\n",
            "48         45    108   298.000000\n",
            "49         60    111   397.600000\n",
            "50         60    107   380.200000\n",
            "51         80    123   643.100000\n",
            "52         60    106   263.000000\n",
            "53         60    118   486.000000\n",
            "54         30    136   238.000000\n",
            "55         60    121   450.700000\n",
            "56         60    118   413.000000\n",
            "57         45    115   305.000000\n",
            "58         20    153   226.400000\n",
            "59         45    123   321.000000\n",
            "60        210    108  1376.000000\n",
            "61        160    110  1034.400000\n",
            "62        160    109   853.000000\n",
            "63         45    118   341.000000\n",
            "64         20    110   131.400000\n",
            "65        180     90   800.400000\n",
            "66        150    105   873.400000\n",
            "67        150    107   816.000000\n",
            "68         20    106   110.400000\n",
            "69        300    108  1500.200000\n",
            "70        150     97  1115.000000\n",
            "71         60    109   387.600000\n",
            "72         90    100   700.000000\n",
            "73        150     97   953.200000\n",
            "74         45    114   304.000000\n",
            "75         90     98   563.200000\n",
            "76         45    105   251.000000\n",
            "77         45    110   300.000000\n",
            "78        120    100   500.400000\n",
            "79        270    100  1729.000000\n",
            "80         30    159   319.200000\n",
            "81         45    149   344.000000\n",
            "82         30    103   151.100000\n",
            "83        120    100   500.000000\n",
            "84         45    100   225.300000\n",
            "85         30    151   300.000000\n",
            "86         45    102   234.000000\n",
            "87        120    100  1000.100000\n",
            "88         45    129   242.000000\n",
            "89         20     83    50.300000\n",
            "90        180    101   600.100000\n",
            "91         45    107   375.790244\n",
            "92         30     90   105.300000\n",
            "93         15     80    50.500000\n",
            "94         20    150   127.400000\n",
            "95         20    151   229.400000\n",
            "96         30     95   128.200000\n",
            "97         25    152   244.200000\n",
            "98         30    109   188.200000\n",
            "99         90     93   604.100000\n",
            "100        20     95    77.700000\n",
            "101        90     90   500.000000\n",
            "102        90     90   500.000000\n",
            "103        90     90   500.400000\n",
            "104        30     92    92.700000\n",
            "105        30     93   124.000000\n",
            "106       180     90   800.300000\n",
            "107        30     90    86.200000\n",
            "108        90     90   500.300000\n",
            "109       210    137  1860.400000\n",
            "110        60    102   325.200000\n",
            "111        45    107   275.000000\n",
            "112        15    124   124.200000\n",
            "113        45    100   225.300000\n",
            "114        60    108   367.600000\n",
            "115        60    108   351.700000\n",
            "116        60    116   443.000000\n",
            "117        60     97   277.400000\n",
            "118        60    105   375.790244\n",
            "119        60    103   332.700000\n",
            "120        30    112   193.900000\n",
            "121        45    100   100.700000\n",
            "122        60    119   336.700000\n",
            "123        60    107   344.900000\n",
            "124        60    111   368.500000\n",
            "125        60     98   271.000000\n",
            "126        60     97   275.300000\n",
            "127        60    109   382.000000\n",
            "128        90     99   466.400000\n",
            "129        60    114   384.000000\n",
            "130        60    104   342.500000\n",
            "131        60    107   357.500000\n",
            "132        60    103   335.000000\n",
            "133        60    106   327.500000\n",
            "134        60    103   339.000000\n",
            "135        20    136   189.000000\n",
            "136        45    117   317.700000\n",
            "137        45    115   318.000000\n",
            "138        45    113   308.000000\n",
            "139        20    141   222.400000\n",
            "140        60    108   390.000000\n",
            "141        60     97   375.790244\n",
            "142        45    100   250.400000\n",
            "143        45    122   335.400000\n",
            "144        60    136   470.200000\n",
            "145        45    106   270.800000\n",
            "146        60    107   400.000000\n",
            "147        60    112   361.900000\n",
            "148        30    103   185.000000\n",
            "149        60    110   409.400000\n",
            "150        60    106   343.000000\n",
            "151        60    109   353.200000\n",
            "152        60    109   374.000000\n",
            "153        30    150   275.800000\n",
            "154        60    105   328.000000\n",
            "155        60    111   368.500000\n",
            "156        60     97   270.400000\n",
            "157        60    100   270.400000\n",
            "158        60    114   382.800000\n",
            "159        30     80   240.900000\n",
            "160        30     85   250.400000\n",
            "161        45     90   260.400000\n",
            "162        45     95   270.000000\n",
            "163        45    100   280.900000\n",
            "164        60    105   290.800000\n",
            "165        60    110   300.000000\n",
            "166        60    115   310.200000\n",
            "167        75    120   320.400000\n",
            "168        75    125   330.400000\n"
          ]
        }
      ]
    },
    {
      "cell_type": "code",
      "source": [
        "print(df.columns)"
      ],
      "metadata": {
        "colab": {
          "base_uri": "https://localhost:8080/"
        },
        "id": "nc5I3gVLRuUv",
        "outputId": "4d01bcfb-e0cd-4d0a-b259-b9aaff330a8a"
      },
      "execution_count": 41,
      "outputs": [
        {
          "output_type": "stream",
          "name": "stdout",
          "text": [
            "Index(['Duration', 'Pulse', 'Calories'], dtype='object')\n"
          ]
        }
      ]
    },
    {
      "cell_type": "code",
      "source": [
        "df['Calories'] = df['Calories'].astype(int)\n",
        "print(df.dtypes)\n",
        "\n"
      ],
      "metadata": {
        "colab": {
          "base_uri": "https://localhost:8080/"
        },
        "id": "4hAN5SL0Rgbq",
        "outputId": "37ec6ef8-8ea6-4cdd-b25b-bbcf55a77e20"
      },
      "execution_count": 37,
      "outputs": [
        {
          "output_type": "stream",
          "name": "stdout",
          "text": [
            "Duration    int64\n",
            "Pulse       int64\n",
            "Calories    int64\n",
            "dtype: object\n"
          ]
        }
      ]
    },
    {
      "cell_type": "code",
      "source": [
        "import pandas as pd\n",
        "import matplotlib.pyplot as plt\n",
        "\n",
        "# Scatter plot using Pandas plot() wrapper\n",
        "df.plot(kind='scatter', x='Duration', y='Calories', title='Duration vs Calories', grid=True)\n",
        "\n",
        "plt.xlabel('Duration')\n",
        "plt.ylabel('Calories')\n",
        "plt.show()\n"
      ],
      "metadata": {
        "colab": {
          "base_uri": "https://localhost:8080/",
          "height": 472
        },
        "id": "aJ7qjv_MSBn4",
        "outputId": "2c2a589a-c189-478f-98bb-2c54f8bcec18"
      },
      "execution_count": 38,
      "outputs": [
        {
          "output_type": "display_data",
          "data": {
            "text/plain": [
              "<Figure size 640x480 with 1 Axes>"
            ],
            "image/png": "[encoded data removed]"
          },
          "metadata": {}
        }
      ]
    }
  ]
}